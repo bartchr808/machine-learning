{
 "cells": [
  {
   "cell_type": "markdown",
   "metadata": {
    "collapsed": true
   },
   "source": [
    "# Image Classification\n",
    "In this project, you'll classify images from the [CIFAR-10 dataset](https://www.cs.toronto.edu/~kriz/cifar.html).  The dataset consists of airplanes, dogs, cats, and other objects. You'll preprocess the images, then train a convolutional neural network on all the samples. The images need to be normalized and the labels need to be one-hot encoded.  You'll get to apply what you learned and build a convolutional, max pooling, dropout, and fully connected layers.  At the end, you'll get to see your neural network's predictions on the sample images.\n",
    "## Get the Data\n",
    "Run the following cell to download the [CIFAR-10 dataset for python](https://www.cs.toronto.edu/~kriz/cifar-10-python.tar.gz)."
   ]
  },
  {
   "cell_type": "code",
   "execution_count": 1,
   "metadata": {},
   "outputs": [
    {
     "name": "stdout",
     "output_type": "stream",
     "text": [
      "All files found!\n"
     ]
    }
   ],
   "source": [
    "\"\"\"\n",
    "DON'T MODIFY ANYTHING IN THIS CELL THAT IS BELOW THIS LINE\n",
    "\"\"\"\n",
    "from urllib.request import urlretrieve\n",
    "from os.path import isfile, isdir\n",
    "from tqdm import tqdm\n",
    "import problem_unittests as tests\n",
    "import tarfile\n",
    "\n",
    "cifar10_dataset_folder_path = 'cifar-10-batches-py'\n",
    "\n",
    "class DLProgress(tqdm):\n",
    "    last_block = 0\n",
    "\n",
    "    def hook(self, block_num=1, block_size=1, total_size=None):\n",
    "        self.total = total_size\n",
    "        self.update((block_num - self.last_block) * block_size)\n",
    "        self.last_block = block_num\n",
    "\n",
    "if not isfile('cifar-10-python.tar.gz'):\n",
    "    with DLProgress(unit='B', unit_scale=True, miniters=1, desc='CIFAR-10 Dataset') as pbar:\n",
    "        urlretrieve(\n",
    "            'https://www.cs.toronto.edu/~kriz/cifar-10-python.tar.gz',\n",
    "            'cifar-10-python.tar.gz',\n",
    "            pbar.hook)\n",
    "\n",
    "if not isdir(cifar10_dataset_folder_path):\n",
    "    with tarfile.open('cifar-10-python.tar.gz') as tar:\n",
    "        tar.extractall()\n",
    "        tar.close()\n",
    "\n",
    "\n",
    "tests.test_folder_path(cifar10_dataset_folder_path)"
   ]
  },
  {
   "cell_type": "markdown",
   "metadata": {},
   "source": [
    "## Explore the Data\n",
    "The dataset is broken into batches to prevent your machine from running out of memory.  The CIFAR-10 dataset consists of 5 batches, named `data_batch_1`, `data_batch_2`, etc.. Each batch contains the labels and images that are one of the following:\n",
    "* airplane\n",
    "* automobile\n",
    "* bird\n",
    "* cat\n",
    "* deer\n",
    "* dog\n",
    "* frog\n",
    "* horse\n",
    "* ship\n",
    "* truck\n",
    "\n",
    "Understanding a dataset is part of making predictions on the data.  Play around with the code cell below by changing the `batch_id` and `sample_id`. The `batch_id` is the id for a batch (1-5). The `sample_id` is the id for a image and label pair in the batch.\n",
    "\n",
    "Ask yourself \"What are all possible labels?\", \"What is the range of values for the image data?\", \"Are the labels in order or random?\".  Answers to questions like these will help you preprocess the data and end up with better predictions."
   ]
  },
  {
   "cell_type": "code",
   "execution_count": 2,
   "metadata": {},
   "outputs": [
    {
     "name": "stdout",
     "output_type": "stream",
     "text": [
      "\n",
      "Stats of batch 1:\n",
      "Samples: 10000\n",
      "Label Counts: {0: 1005, 1: 974, 2: 1032, 3: 1016, 4: 999, 5: 937, 6: 1030, 7: 1001, 8: 1025, 9: 981}\n",
      "First 20 Labels: [6, 9, 9, 4, 1, 1, 2, 7, 8, 3, 4, 7, 7, 2, 9, 9, 9, 3, 2, 6]\n",
      "\n",
      "Example of Image 1005:\n",
      "Image - Min Value: 0 Max Value: 247\n",
      "Image - Shape: (32, 32, 3)\n",
      "Label - Label Id: 4 Name: deer\n"
     ]
    },
    {
     "data": {
      "image/png": "[encoded data removed]",
      "text/plain": [
       "<matplotlib.figure.Figure at 0x11bc31198>"
      ]
     },
     "metadata": {
      "image/png": {
       "height": 250,
       "width": 253
      }
     },
     "output_type": "display_data"
    }
   ],
   "source": [
    "%matplotlib inline\n",
    "%config InlineBackend.figure_format = 'retina'\n",
    "\n",
    "import helper\n",
    "import numpy as np\n",
    "\n",
    "# Explore the dataset\n",
    "batch_id = 1\n",
    "sample_id = 1005\n",
    "helper.display_stats(cifar10_dataset_folder_path, batch_id, sample_id)"
   ]
  },
  {
   "cell_type": "markdown",
   "metadata": {},
   "source": [
    "## Implement Preprocess Functions\n",
    "### Normalize\n",
    "In the cell below, implement the `normalize` function to take in image data, `x`, and return it as a normalized Numpy array. The values should be in the range of 0 to 1, inclusive.  The return object should be the same shape as `x`."
   ]
  },
  {
   "cell_type": "code",
   "execution_count": 3,
   "metadata": {},
   "outputs": [
    {
     "name": "stdout",
     "output_type": "stream",
     "text": [
      "Tests Passed\n"
     ]
    }
   ],
   "source": [
    "def normalize(x):\n",
    "    \"\"\"\n",
    "    Normalize a list of sample image data in the range of 0 to 1\n",
    "    : x: List of image data.  The image shape is (32, 32, 3)\n",
    "    : return: Numpy array of normalize data\n",
    "    \"\"\"\n",
    "\n",
    "    # TODO: Implement Function\n",
    "    #numpy is smart and don't need to iterate over entire 3-d array \n",
    "    return x / 255 # (x-0)/255=x/255\n",
    "\n",
    "\"\"\"\n",
    "DON'T MODIFY ANYTHING IN THIS CELL THAT IS BELOW THIS LINE\n",
    "\"\"\"\n",
    "tests.test_normalize(normalize)"
   ]
  },
  {
   "cell_type": "markdown",
   "metadata": {},
   "source": [
    "### One-hot encode\n",
    "Just like the previous code cell, you'll be implementing a function for preprocessing.  This time, you'll implement the `one_hot_encode` function. The input, `x`, are a list of labels.  Implement the function to return the list of labels as One-Hot encoded Numpy array.  The possible values for labels are 0 to 9. The one-hot encoding function should return the same encoding for each value between each call to `one_hot_encode`.  Make sure to save the map of encodings outside the function.\n",
    "\n",
    "**Hint:**\n",
    "\n",
    "Look into LabelBinarizer in the preprocessing module of sklearn."
   ]
  },
  {
   "cell_type": "code",
   "execution_count": 4,
   "metadata": {},
   "outputs": [
    {
     "name": "stdout",
     "output_type": "stream",
     "text": [
      "Tests Passed\n"
     ]
    }
   ],
   "source": [
    "from sklearn import preprocessing\n",
    "def one_hot_encode(x):\n",
    "    \"\"\"\n",
    "    One hot encode a list of sample labels. Return a one-hot encoded vector for each label.\n",
    "    : x: List of sample Labels\n",
    "    : return: Numpy array of one-hot encoded labels\n",
    "    \"\"\"\n",
    "    \n",
    "    ## LONG SOLUTION\n",
    "    # lb = preprocessing.LabelBinarizer()\n",
    "    # lb.fit(np.array(range(10))) # fit to 10 possible values\n",
    "    # one_hot_x = lb.transform(x)\n",
    "    \n",
    "    ## POSSIBLE SHORT SOLUTIONS\n",
    "    # one_hot_x = np.eye(10)[x]\n",
    "    # one_hot_x = np.identity(10, dtype=int)[x]\n",
    "    one_hot_x = preprocessing.label_binarize(x, classes=range(10))\n",
    "    return one_hot_x\n",
    "\n",
    "\n",
    "\"\"\"\n",
    "DON'T MODIFY ANYTHING IN THIS CELL THAT IS BELOW THIS LINE\n",
    "\"\"\"\n",
    "tests.test_one_hot_encode(one_hot_encode)"
   ]
  },
  {
   "cell_type": "markdown",
   "metadata": {},
   "source": [
    "### Randomize Data\n",
    "As you saw from exploring the data above, the order of the samples are randomized.  It doesn't hurt to randomize it again, but you don't need to for this dataset."
   ]
  },
  {
   "cell_type": "markdown",
   "metadata": {},
   "source": [
    "## Preprocess all the data and save it\n",
    "Running the code cell below will preprocess all the CIFAR-10 data and save it to file. The code below also uses 10% of the training data for validation."
   ]
  },
  {
   "cell_type": "code",
   "execution_count": 5,
   "metadata": {
    "collapsed": true
   },
   "outputs": [],
   "source": [
    "\"\"\"\n",
    "DON'T MODIFY ANYTHING IN THIS CELL\n",
    "\"\"\"\n",
    "# Preprocess Training, Validation, and Testing Data\n",
    "helper.preprocess_and_save_data(cifar10_dataset_folder_path, normalize, one_hot_encode)"
   ]
  },
  {
   "cell_type": "markdown",
   "metadata": {},
   "source": [
    "# Check Point\n",
    "This is your first checkpoint.  If you ever decide to come back to this notebook or have to restart the notebook, you can start from here.  The preprocessed data has been saved to disk."
   ]
  },
  {
   "cell_type": "code",
   "execution_count": 6,
   "metadata": {
    "collapsed": true
   },
   "outputs": [],
   "source": [
    "\"\"\"\n",
    "DON'T MODIFY ANYTHING IN THIS CELL\n",
    "\"\"\"\n",
    "import pickle\n",
    "import problem_unittests as tests\n",
    "import helper\n",
    "\n",
    "# Load the Preprocessed Validation data\n",
    "valid_features, valid_labels = pickle.load(open('preprocess_validation.p', mode='rb'))"
   ]
  },
  {
   "cell_type": "markdown",
   "metadata": {},
   "source": [
    "## Build the network\n",
    "For the neural network, you'll build each layer into a function.  Most of the code you've seen has been outside of functions. To test your code more thoroughly, we require that you put each layer in a function.  This allows us to give you better feedback and test for simple mistakes using our unittests before you submit your project.\n",
    "\n",
    ">**Note:** If you're finding it hard to dedicate enough time for this course each week, we've provided a small shortcut to this part of the project. In the next couple of problems, you'll have the option to use classes from the [TensorFlow Layers](https://www.tensorflow.org/api_docs/python/tf/layers) or [TensorFlow Layers (contrib)](https://www.tensorflow.org/api_guides/python/contrib.layers) packages to build each layer, except the layers you build in the \"Convolutional and Max Pooling Layer\" section.  TF Layers is similar to Keras's and TFLearn's abstraction to layers, so it's easy to pickup.\n",
    "\n",
    ">However, if you would like to get the most out of this course, try to solve all the problems _without_ using anything from the TF Layers packages. You **can** still use classes from other packages that happen to have the same name as ones you find in TF Layers! For example, instead of using the TF Layers version of the `conv2d` class, [tf.layers.conv2d](https://www.tensorflow.org/api_docs/python/tf/layers/conv2d), you would want to use the TF Neural Network version of `conv2d`, [tf.nn.conv2d](https://www.tensorflow.org/api_docs/python/tf/nn/conv2d). \n",
    "\n",
    "Let's begin!\n",
    "\n",
    "### Input\n",
    "The neural network needs to read the image data, one-hot encoded labels, and dropout keep probability. Implement the following functions\n",
    "* Implement `neural_net_image_input`\n",
    " * Return a [TF Placeholder](https://www.tensorflow.org/api_docs/python/tf/placeholder)\n",
    " * Set the shape using `image_shape` with batch size set to `None`.\n",
    " * Name the TensorFlow placeholder \"x\" using the TensorFlow `name` parameter in the [TF Placeholder](https://www.tensorflow.org/api_docs/python/tf/placeholder).\n",
    "* Implement `neural_net_label_input`\n",
    " * Return a [TF Placeholder](https://www.tensorflow.org/api_docs/python/tf/placeholder)\n",
    " * Set the shape using `n_classes` with batch size set to `None`.\n",
    " * Name the TensorFlow placeholder \"y\" using the TensorFlow `name` parameter in the [TF Placeholder](https://www.tensorflow.org/api_docs/python/tf/placeholder).\n",
    "* Implement `neural_net_keep_prob_input`\n",
    " * Return a [TF Placeholder](https://www.tensorflow.org/api_docs/python/tf/placeholder) for dropout keep probability.\n",
    " * Name the TensorFlow placeholder \"keep_prob\" using the TensorFlow `name` parameter in the [TF Placeholder](https://www.tensorflow.org/api_docs/python/tf/placeholder).\n",
    "\n",
    "These names will be used at the end of the project to load your saved model.\n",
    "\n",
    "Note: `None` for shapes in TensorFlow allow for a dynamic size."
   ]
  },
  {
   "cell_type": "code",
   "execution_count": 7,
   "metadata": {},
   "outputs": [
    {
     "name": "stdout",
     "output_type": "stream",
     "text": [
      "Image Input Tests Passed.\n",
      "Label Input Tests Passed.\n",
      "Keep Prob Tests Passed.\n"
     ]
    }
   ],
   "source": [
    "import tensorflow as tf\n",
    "\n",
    "def neural_net_image_input(image_shape):\n",
    "    \"\"\"\n",
    "    Return a Tensor for a batch of image input\n",
    "    : image_shape: Shape of the images\n",
    "    : return: Tensor for image input.\n",
    "    \"\"\"\n",
    "    \n",
    "    # TODO: Implement Function\n",
    "    return tf.placeholder(tf.float32, shape=(None, *image_shape), name='x')\n",
    "\n",
    "\n",
    "def neural_net_label_input(n_classes):\n",
    "    \"\"\"\n",
    "    Return a Tensor for a batch of label input\n",
    "    : n_classes: Number of classes\n",
    "    : return: Tensor for label input.\n",
    "    \"\"\"\n",
    "    \n",
    "    return tf.placeholder(tf.float32, shape=(None, n_classes), name='y')\n",
    "\n",
    "\n",
    "def neural_net_keep_prob_input():\n",
    "    \"\"\"\n",
    "    Return a Tensor for keep probability\n",
    "    : return: Tensor for keep probability.\n",
    "    \"\"\"\n",
    "\n",
    "    return tf.placeholder(tf.float32, name='keep_prob')\n",
    "\n",
    "\n",
    "\"\"\"\n",
    "DON'T MODIFY ANYTHING IN THIS CELL THAT IS BELOW THIS LINE\n",
    "\"\"\"\n",
    "tf.reset_default_graph()\n",
    "tests.test_nn_image_inputs(neural_net_image_input)\n",
    "tests.test_nn_label_inputs(neural_net_label_input)\n",
    "tests.test_nn_keep_prob_inputs(neural_net_keep_prob_input)"
   ]
  },
  {
   "cell_type": "markdown",
   "metadata": {},
   "source": [
    "### Convolution and Max Pooling Layer\n",
    "Convolution layers have a lot of success with images. For this code cell, you should implement the function `conv2d_maxpool` to apply convolution then max pooling:\n",
    "* Create the weight and bias using `conv_ksize`, `conv_num_outputs` and the shape of `x_tensor`.\n",
    "* Apply a convolution to `x_tensor` using weight and `conv_strides`.\n",
    " * We recommend you use same padding, but you're welcome to use any padding.\n",
    "* Add bias\n",
    "* Add a nonlinear activation to the convolution.\n",
    "* Apply Max Pooling using `pool_ksize` and `pool_strides`.\n",
    " * We recommend you use same padding, but you're welcome to use any padding.\n",
    "\n",
    "**Note:** You **can't** use [TensorFlow Layers](https://www.tensorflow.org/api_docs/python/tf/layers) or [TensorFlow Layers (contrib)](https://www.tensorflow.org/api_guides/python/contrib.layers) for **this** layer, but you can still use TensorFlow's [Neural Network](https://www.tensorflow.org/api_docs/python/tf/nn) package. You may still use the shortcut option for all the **other** layers.\n",
    "\n",
    "** Hint: **\n",
    "\n",
    "When unpacking values as an argument in Python, look into the [unpacking](https://docs.python.org/3/tutorial/controlflow.html#unpacking-argument-lists) operator. "
   ]
  },
  {
   "cell_type": "code",
   "execution_count": 8,
   "metadata": {
    "scrolled": true
   },
   "outputs": [
    {
     "name": "stdout",
     "output_type": "stream",
     "text": [
      "Tests Passed\n"
     ]
    }
   ],
   "source": [
    "def conv2d_maxpool(x_tensor, conv_num_outputs, conv_ksize, conv_strides, pool_ksize, pool_strides):\n",
    "    \"\"\"\n",
    "    Apply convolution then max pooling to x_tensor\n",
    "    :param x_tensor: TensorFlow Tensor\n",
    "    :param conv_num_outputs: Number of outputs for the convolutional layer\n",
    "    :param conv_ksize: kernal size 2-D Tuple for the convolutional layer\n",
    "    :param conv_strides: Stride 2-D Tuple for convolution\n",
    "    :param pool_ksize: kernal size 2-D Tuple for pool\n",
    "    :param pool_strides: Stride 2-D Tuple for pool\n",
    "    : return: A tensor that represents convolution and max pooling of x_tensor\n",
    "    \"\"\"\n",
    "    weights_shapes = (conv_ksize[0], conv_ksize[1], int(x_tensor.get_shape()[3]), conv_num_outputs)\n",
    "    nn_weights = tf.Variable(tf.truncated_normal(weights_shapes, stddev=0.05)) #mean=0,std=0.05\n",
    "    nn_biases = tf.Variable(tf.zeros(conv_num_outputs))\n",
    "    \n",
    "    layer_strides = [1, conv_strides[0], conv_strides[1], 1]\n",
    "    \n",
    "    layer = tf.nn.conv2d(x_tensor, nn_weights, strides=layer_strides, padding='SAME')\n",
    "    #layer = tf.nn.relu(tf.nn.bias_add(layer, nn_biases))\n",
    "    layer = tf.contrib.keras.layers.LeakyReLU(alpha=0.2)(layer)   ##################### UDACITY REVIEWER: doesn't seem to work here\n",
    "    \n",
    "    k_size = [1, pool_ksize[0], pool_ksize[1], 1]\n",
    "    pool_stride = [1, pool_strides[0], pool_strides[1], 1]\n",
    "    \n",
    "    layer = tf.nn.max_pool(\n",
    "        layer,\n",
    "        ksize=k_size,\n",
    "        strides=pool_stride,\n",
    "        padding='SAME')\n",
    "    \n",
    "    return layer\n",
    "\n",
    "\"\"\"\n",
    "DON'T MODIFY ANYTHING IN THIS CELL THAT IS BELOW THIS LINE\n",
    "\"\"\"\n",
    "tests.test_con_pool(conv2d_maxpool)"
   ]
  },
  {
   "cell_type": "markdown",
   "metadata": {},
   "source": [
    "### Flatten Layer\n",
    "Implement the `flatten` function to change the dimension of `x_tensor` from a 4-D tensor to a 2-D tensor.  The output should be the shape (*Batch Size*, *Flattened Image Size*). Shortcut option: you can use classes from the [TensorFlow Layers](https://www.tensorflow.org/api_docs/python/tf/layers) or [TensorFlow Layers (contrib)](https://www.tensorflow.org/api_guides/python/contrib.layers) packages for this layer. For more of a challenge, only use other TensorFlow packages."
   ]
  },
  {
   "cell_type": "code",
   "execution_count": 9,
   "metadata": {},
   "outputs": [
    {
     "name": "stdout",
     "output_type": "stream",
     "text": [
      "Tests Passed\n"
     ]
    }
   ],
   "source": [
    "def flatten(x_tensor):\n",
    "    \"\"\"\n",
    "    Flatten x_tensor to (Batch Size, Flattened Image Size)\n",
    "    : x_tensor: A tensor of size (Batch Size, ...), where ... are the image dimensions.\n",
    "    : return: A tensor of size (Batch Size, Flattened Image Size).\n",
    "    \"\"\"\n",
    "    \n",
    "    #batch_size, x, y, z = x_tensor.get_shape().as_list()\n",
    "    #flat_dims = x * y * z\n",
    "    #return tf.reshape(x_tensor, [-1, flat_dims])\n",
    "    \n",
    "    return  tf.contrib.layers.flatten(x_tensor)\n",
    "\n",
    "\n",
    "\"\"\"\n",
    "DON'T MODIFY ANYTHING IN THIS CELL THAT IS BELOW THIS LINE\n",
    "\"\"\"\n",
    "tests.test_flatten(flatten)"
   ]
  },
  {
   "cell_type": "markdown",
   "metadata": {},
   "source": [
    "### Fully-Connected Layer\n",
    "Implement the `fully_conn` function to apply a fully connected layer to `x_tensor` with the shape (*Batch Size*, *num_outputs*). Shortcut option: you can use classes from the [TensorFlow Layers](https://www.tensorflow.org/api_docs/python/tf/layers) or [TensorFlow Layers (contrib)](https://www.tensorflow.org/api_guides/python/contrib.layers) packages for this layer. For more of a challenge, only use other TensorFlow packages."
   ]
  },
  {
   "cell_type": "code",
   "execution_count": 10,
   "metadata": {},
   "outputs": [
    {
     "name": "stdout",
     "output_type": "stream",
     "text": [
      "Tests Passed\n"
     ]
    }
   ],
   "source": [
    "def fully_conn(x_tensor, num_outputs):\n",
    "    \"\"\"\n",
    "    Apply a fully connected layer to x_tensor using weight and bias\n",
    "    : x_tensor: A 2-D tensor where the first dimension is batch size.\n",
    "    : num_outputs: The number of output that the new tensor should be.\n",
    "    : return: A 2-D tensor where the second dimension is num_outputs.\n",
    "    \"\"\"\n",
    "    \n",
    "    \n",
    "    return tf.contrib.layers.fully_connected(x_tensor, num_outputs, activation_fn=tf.nn.relu) # Still want to figure out how to use this with just tf.nn!!!!!!!!\n",
    "\n",
    "\n",
    "\"\"\"\n",
    "DON'T MODIFY ANYTHING IN THIS CELL THAT IS BELOW THIS LINE\n",
    "\"\"\"\n",
    "tests.test_fully_conn(fully_conn)"
   ]
  },
  {
   "cell_type": "markdown",
   "metadata": {},
   "source": [
    "### Output Layer\n",
    "Implement the `output` function to apply a fully connected layer to `x_tensor` with the shape (*Batch Size*, *num_outputs*). Shortcut option: you can use classes from the [TensorFlow Layers](https://www.tensorflow.org/api_docs/python/tf/layers) or [TensorFlow Layers (contrib)](https://www.tensorflow.org/api_guides/python/contrib.layers) packages for this layer. For more of a challenge, only use other TensorFlow packages.\n",
    "\n",
    "**Note:** Activation, softmax, or cross entropy should **not** be applied to this."
   ]
  },
  {
   "cell_type": "code",
   "execution_count": 11,
   "metadata": {},
   "outputs": [
    {
     "name": "stdout",
     "output_type": "stream",
     "text": [
      "Tests Passed\n"
     ]
    }
   ],
   "source": [
    "def output(x_tensor, num_outputs):\n",
    "    \"\"\"\n",
    "    Apply a output layer to x_tensor using weight and bias\n",
    "    : x_tensor: A 2-D tensor where the first dimension is batch size.\n",
    "    : num_outputs: The number of output that the new tensor should be.\n",
    "    : return: A 2-D tensor where the second dimension is num_outputs.\n",
    "    \"\"\"\n",
    "    \n",
    "    return tf.layers.dense(x_tensor, units=num_outputs) # Still want to figure out how to use this with just tf.nn!!!!!!!!\n",
    "\n",
    "\n",
    "\"\"\"\n",
    "DON'T MODIFY ANYTHING IN THIS CELL THAT IS BELOW THIS LINE\n",
    "\"\"\"\n",
    "tests.test_output(output)"
   ]
  },
  {
   "cell_type": "markdown",
   "metadata": {},
   "source": [
    "### Create Convolutional Model\n",
    "Implement the function `conv_net` to create a convolutional neural network model. The function takes in a batch of images, `x`, and outputs logits.  Use the layers you created above to create this model:\n",
    "\n",
    "* Apply 1, 2, or 3 Convolution and Max Pool layers\n",
    "* Apply a Flatten Layer\n",
    "* Apply 1, 2, or 3 Fully Connected Layers\n",
    "* Apply an Output Layer\n",
    "* Return the output\n",
    "* Apply [TensorFlow's Dropout](https://www.tensorflow.org/api_docs/python/tf/nn/dropout) to one or more layers in the model using `keep_prob`. "
   ]
  },
  {
   "cell_type": "code",
   "execution_count": 12,
   "metadata": {},
   "outputs": [
    {
     "name": "stdout",
     "output_type": "stream",
     "text": [
      "Neural Network Built!\n"
     ]
    }
   ],
   "source": [
    "def conv_net(x, keep_prob):\n",
    "    \"\"\"\n",
    "    Create a convolutional neural network model\n",
    "    : x: Placeholder tensor that holds image data.\n",
    "    : keep_prob: Placeholder tensor that hold dropout keep probability.\n",
    "    : return: Tensor that represents logits\n",
    "    \"\"\"\n",
    "    # TODO: Apply 1, 2, or 3 Convolution and Max Pool layers\n",
    "    #    Play around with different number of outputs, kernel size and stride\n",
    "    # Function Definition from Above:\n",
    "    #    conv2d_maxpool(x_tensor, conv_num_outputs, conv_ksize, conv_strides, pool_ksize, pool_strides)\n",
    "    layer = conv2d_maxpool(x, 64, (3,3), (1,1), (1,1), (1,1))\n",
    "    layer = conv2d_maxpool(layer, 128, (3,3), (1,1), (2,2), (2,2))\n",
    "    \n",
    "\n",
    "    # TODO: Apply a Flatten Layer\n",
    "    # Function Definition from Above:\n",
    "    layer = flatten(layer)\n",
    "    \n",
    "\n",
    "    # TODO: Apply 1, 2, or 3 Fully Connected Layers\n",
    "    #    Play around with different number of outputs\n",
    "    # Function Definition from Above:\n",
    "    #   fully_conn(x_tensor, num_outputs)\n",
    "    layer = fully_conn(layer, 384)\n",
    "    #layer = tf.nn.dropout(layer, keep_prob)\n",
    "    layer = fully_conn(layer, 192)\n",
    "    layer = tf.nn.dropout(layer, keep_prob)\n",
    "    \n",
    "    # TODO: Apply an Output Layer\n",
    "    #    Set this to the number of classes\n",
    "    # Function Definition from Above:\n",
    "    o = output(layer, 10)\n",
    "    \n",
    "    \n",
    "    # TODO: return output\n",
    "    return o\n",
    "\n",
    "\n",
    "\"\"\"\n",
    "DON'T MODIFY ANYTHING IN THIS CELL THAT IS BELOW THIS LINE\n",
    "\"\"\"\n",
    "\n",
    "##############################\n",
    "## Build the Neural Network ##\n",
    "##############################\n",
    "\n",
    "# Remove previous weights, bias, inputs, etc..\n",
    "tf.reset_default_graph()\n",
    "\n",
    "# Inputs\n",
    "x = neural_net_image_input((32, 32, 3))\n",
    "y = neural_net_label_input(10)\n",
    "keep_prob = neural_net_keep_prob_input()\n",
    "\n",
    "# Model\n",
    "logits = conv_net(x, keep_prob)\n",
    "\n",
    "# Name logits Tensor, so that is can be loaded from disk after training\n",
    "logits = tf.identity(logits, name='logits')\n",
    "\n",
    "# Loss and Optimizer\n",
    "cost = tf.reduce_mean(tf.nn.softmax_cross_entropy_with_logits(logits=logits, labels=y))\n",
    "optimizer = tf.train.AdamOptimizer().minimize(cost)\n",
    "\n",
    "# Accuracy\n",
    "correct_pred = tf.equal(tf.argmax(logits, 1), tf.argmax(y, 1))\n",
    "accuracy = tf.reduce_mean(tf.cast(correct_pred, tf.float32), name='accuracy')\n",
    "\n",
    "tests.test_conv_net(conv_net)"
   ]
  },
  {
   "cell_type": "markdown",
   "metadata": {},
   "source": [
    "## Train the Neural Network\n",
    "### Single Optimization\n",
    "Implement the function `train_neural_network` to do a single optimization.  The optimization should use `optimizer` to optimize in `session` with a `feed_dict` of the following:\n",
    "* `x` for image input\n",
    "* `y` for labels\n",
    "* `keep_prob` for keep probability for dropout\n",
    "\n",
    "This function will be called for each batch, so `tf.global_variables_initializer()` has already been called.\n",
    "\n",
    "Note: Nothing needs to be returned. This function is only optimizing the neural network."
   ]
  },
  {
   "cell_type": "code",
   "execution_count": 13,
   "metadata": {},
   "outputs": [
    {
     "name": "stdout",
     "output_type": "stream",
     "text": [
      "Tests Passed\n"
     ]
    }
   ],
   "source": [
    "def train_neural_network(session, optimizer, keep_probability, feature_batch, label_batch):\n",
    "    \"\"\"\n",
    "    Optimize the session on a batch of images and labels\n",
    "    : session: Current TensorFlow session\n",
    "    : optimizer: TensorFlow optimizer function\n",
    "    : keep_probability: keep probability\n",
    "    : feature_batch: Batch of Numpy image data\n",
    "    : label_batch: Batch of Numpy label data\n",
    "    \"\"\"\n",
    "    # TODO: Implement Function\n",
    "    session.run(optimizer, feed_dict={\n",
    "            keep_prob: keep_probability,\n",
    "            x: feature_batch,\n",
    "            y: label_batch\n",
    "        })\n",
    "\n",
    "\n",
    "\"\"\"\n",
    "DON'T MODIFY ANYTHING IN THIS CELL THAT IS BELOW THIS LINE\n",
    "\"\"\"\n",
    "tests.test_train_nn(train_neural_network)"
   ]
  },
  {
   "cell_type": "markdown",
   "metadata": {},
   "source": [
    "### Show Stats\n",
    "Implement the function `print_stats` to print loss and validation accuracy.  Use the global variables `valid_features` and `valid_labels` to calculate validation accuracy.  Use a keep probability of `1.0` to calculate the loss and validation accuracy."
   ]
  },
  {
   "cell_type": "code",
   "execution_count": 14,
   "metadata": {
    "collapsed": true
   },
   "outputs": [],
   "source": [
    "def print_stats(session, feature_batch, label_batch, cost, accuracy):\n",
    "    \"\"\"\n",
    "    Print information about loss and validation accuracy\n",
    "    : session: Current TensorFlow session\n",
    "    : feature_batch: Batch of Numpy image data\n",
    "    : label_batch: Batch of Numpy label data\n",
    "    : cost: TensorFlow cost function\n",
    "    : accuracy: TensorFlow accuracy function\n",
    "    \"\"\"\n",
    "    # TODO: Implement Function\n",
    "    loss = session.run(cost, feed_dict={\n",
    "            keep_prob: 1.0,\n",
    "            x: feature_batch,\n",
    "            y: label_batch\n",
    "        })\n",
    "    accuracy = session.run(accuracy, feed_dict={\n",
    "            keep_prob: 1.0, \n",
    "            x: valid_features, \n",
    "            y: valid_labels\n",
    "        })\n",
    "    print(\"LOSS: \", loss)\n",
    "    print(\"ACCURACY: \", accuracy)"
   ]
  },
  {
   "cell_type": "markdown",
   "metadata": {},
   "source": [
    "### Hyperparameters\n",
    "Tune the following parameters:\n",
    "* Set `epochs` to the number of iterations until the network stops learning or start overfitting\n",
    "* Set `batch_size` to the highest number that your machine has memory for.  Most people set them to common sizes of memory:\n",
    " * 64\n",
    " * 128\n",
    " * 256\n",
    " * ...\n",
    "* Set `keep_probability` to the probability of keeping a node using dropout"
   ]
  },
  {
   "cell_type": "code",
   "execution_count": 17,
   "metadata": {
    "collapsed": true
   },
   "outputs": [],
   "source": [
    "# TODO: Tune Parameters\n",
    "epochs = 32\n",
    "batch_size = 256\n",
    "keep_probability = 0.7"
   ]
  },
  {
   "cell_type": "markdown",
   "metadata": {},
   "source": [
    "### Train on a Single CIFAR-10 Batch\n",
    "Instead of training the neural network on all the CIFAR-10 batches of data, let's use a single batch. This should save time while you iterate on the model to get a better accuracy.  Once the final validation accuracy is 50% or greater, run the model on all the data in the next section."
   ]
  },
  {
   "cell_type": "code",
   "execution_count": 16,
   "metadata": {},
   "outputs": [
    {
     "name": "stdout",
     "output_type": "stream",
     "text": [
      "Checking the Training on a Single Batch...\n",
      "Epoch  1, CIFAR-10 Batch 1:  LOSS:  1.91622\n",
      "ACCURACY:  0.3498\n",
      "Epoch  2, CIFAR-10 Batch 1:  LOSS:  1.37843\n",
      "ACCURACY:  0.4608\n",
      "Epoch  3, CIFAR-10 Batch 1:  LOSS:  0.832254\n",
      "ACCURACY:  0.4982\n",
      "Epoch  4, CIFAR-10 Batch 1:  LOSS:  0.493237\n",
      "ACCURACY:  0.5298\n",
      "Epoch  5, CIFAR-10 Batch 1:  LOSS:  0.317687\n",
      "ACCURACY:  0.5442\n",
      "Epoch  6, CIFAR-10 Batch 1:  LOSS:  0.148845\n",
      "ACCURACY:  0.5508\n",
      "Epoch  7, CIFAR-10 Batch 1:  LOSS:  0.0816678\n",
      "ACCURACY:  0.5564\n",
      "Epoch  8, CIFAR-10 Batch 1:  LOSS:  0.0585914\n",
      "ACCURACY:  0.5336\n",
      "Epoch  9, CIFAR-10 Batch 1:  LOSS:  0.0348586\n",
      "ACCURACY:  0.535\n",
      "Epoch 10, CIFAR-10 Batch 1:  LOSS:  0.0128364\n",
      "ACCURACY:  0.5384\n",
      "Epoch 11, CIFAR-10 Batch 1:  LOSS:  0.0117074\n",
      "ACCURACY:  0.5506\n",
      "Epoch 12, CIFAR-10 Batch 1:  LOSS:  0.00240467\n",
      "ACCURACY:  0.571\n",
      "Epoch 13, CIFAR-10 Batch 1:  LOSS:  0.00120272\n",
      "ACCURACY:  0.569\n",
      "Epoch 14, CIFAR-10 Batch 1:  LOSS:  0.00173016\n",
      "ACCURACY:  0.5776\n",
      "Epoch 15, CIFAR-10 Batch 1:  LOSS:  0.00065001\n",
      "ACCURACY:  0.5774\n",
      "Epoch 16, CIFAR-10 Batch 1:  LOSS:  0.00064477\n",
      "ACCURACY:  0.5778\n",
      "Epoch 17, CIFAR-10 Batch 1:  LOSS:  0.000107059\n",
      "ACCURACY:  0.5744\n",
      "Epoch 18, CIFAR-10 Batch 1:  LOSS:  0.00013806\n",
      "ACCURACY:  0.5766\n",
      "Epoch 19, CIFAR-10 Batch 1:  LOSS:  0.000151956\n",
      "ACCURACY:  0.5832\n",
      "Epoch 20, CIFAR-10 Batch 1:  LOSS:  3.24141e-05\n",
      "ACCURACY:  0.5822\n",
      "Epoch 21, CIFAR-10 Batch 1:  LOSS:  0.00152489\n",
      "ACCURACY:  0.5726\n",
      "Epoch 22, CIFAR-10 Batch 1:  LOSS:  9.33069e-05\n",
      "ACCURACY:  0.5662\n",
      "Epoch 23, CIFAR-10 Batch 1:  LOSS:  6.402e-05\n",
      "ACCURACY:  0.585\n",
      "Epoch 24, CIFAR-10 Batch 1:  LOSS:  5.6949e-05\n",
      "ACCURACY:  0.5826\n",
      "Epoch 25, CIFAR-10 Batch 1:  LOSS:  6.17175e-05\n",
      "ACCURACY:  0.5902\n",
      "Epoch 26, CIFAR-10 Batch 1:  LOSS:  4.08371e-05\n",
      "ACCURACY:  0.5904\n",
      "Epoch 27, CIFAR-10 Batch 1:  LOSS:  0.000164644\n",
      "ACCURACY:  0.5948\n",
      "Epoch 28, CIFAR-10 Batch 1:  LOSS:  1.32076e-05\n",
      "ACCURACY:  0.5968\n",
      "Epoch 29, CIFAR-10 Batch 1:  LOSS:  4.3093e-06\n",
      "ACCURACY:  0.594\n",
      "Epoch 30, CIFAR-10 Batch 1:  LOSS:  4.9024e-06\n",
      "ACCURACY:  0.5886\n",
      "Epoch 31, CIFAR-10 Batch 1:  LOSS:  3.32589e-06\n",
      "ACCURACY:  0.5914\n",
      "Epoch 32, CIFAR-10 Batch 1:  LOSS:  6.15706e-06\n",
      "ACCURACY:  0.5916\n"
     ]
    }
   ],
   "source": [
    "\"\"\"\n",
    "DON'T MODIFY ANYTHING IN THIS CELL\n",
    "\"\"\"\n",
    "print('Checking the Training on a Single Batch...')\n",
    "with tf.Session() as sess:\n",
    "    # Initializing the variables\n",
    "    sess.run(tf.global_variables_initializer())\n",
    "    \n",
    "    # Training cycle\n",
    "    for epoch in range(epochs):\n",
    "        batch_i = 1\n",
    "        for batch_features, batch_labels in helper.load_preprocess_training_batch(batch_i, batch_size):\n",
    "            train_neural_network(sess, optimizer, keep_probability, batch_features, batch_labels)\n",
    "        print('Epoch {:>2}, CIFAR-10 Batch {}:  '.format(epoch + 1, batch_i), end='')\n",
    "        print_stats(sess, batch_features, batch_labels, cost, accuracy)"
   ]
  },
  {
   "cell_type": "markdown",
   "metadata": {},
   "source": [
    "### Fully Train the Model\n",
    "Now that you got a good accuracy with a single CIFAR-10 batch, try it with all five batches."
   ]
  },
  {
   "cell_type": "code",
   "execution_count": 18,
   "metadata": {},
   "outputs": [
    {
     "name": "stdout",
     "output_type": "stream",
     "text": [
      "Training...\n",
      "Epoch  1, CIFAR-10 Batch 1:  LOSS:  1.93006\n",
      "ACCURACY:  0.3956\n",
      "Epoch  1, CIFAR-10 Batch 2:  LOSS:  1.28216\n",
      "ACCURACY:  0.467\n",
      "Epoch  1, CIFAR-10 Batch 3:  LOSS:  1.1613\n",
      "ACCURACY:  0.495\n",
      "Epoch  1, CIFAR-10 Batch 4:  LOSS:  1.18951\n",
      "ACCURACY:  0.5252\n",
      "Epoch  1, CIFAR-10 Batch 5:  LOSS:  1.06793\n",
      "ACCURACY:  0.567\n",
      "Epoch  2, CIFAR-10 Batch 1:  LOSS:  1.05345\n",
      "ACCURACY:  0.5834\n",
      "Epoch  2, CIFAR-10 Batch 2:  LOSS:  0.71402\n",
      "ACCURACY:  0.59\n",
      "Epoch  2, CIFAR-10 Batch 3:  LOSS:  0.516618\n",
      "ACCURACY:  0.6218\n",
      "Epoch  2, CIFAR-10 Batch 4:  LOSS:  0.573717\n",
      "ACCURACY:  0.6374\n",
      "Epoch  2, CIFAR-10 Batch 5:  LOSS:  0.425318\n",
      "ACCURACY:  0.6634\n",
      "Epoch  3, CIFAR-10 Batch 1:  LOSS:  0.48143\n",
      "ACCURACY:  0.6544\n",
      "Epoch  3, CIFAR-10 Batch 2:  LOSS:  0.237139\n",
      "ACCURACY:  0.659\n",
      "Epoch  3, CIFAR-10 Batch 3:  LOSS:  0.204049\n",
      "ACCURACY:  0.6668\n",
      "Epoch  3, CIFAR-10 Batch 4:  LOSS:  0.204481\n",
      "ACCURACY:  0.664\n",
      "Epoch  3, CIFAR-10 Batch 5:  LOSS:  0.160143\n",
      "ACCURACY:  0.6586\n",
      "Epoch  4, CIFAR-10 Batch 1:  LOSS:  0.147942\n",
      "ACCURACY:  0.668\n",
      "Epoch  4, CIFAR-10 Batch 2:  LOSS:  0.0633809\n",
      "ACCURACY:  0.6798\n",
      "Epoch  4, CIFAR-10 Batch 3:  LOSS:  0.0741184\n",
      "ACCURACY:  0.6826\n",
      "Epoch  4, CIFAR-10 Batch 4:  LOSS:  0.101808\n",
      "ACCURACY:  0.6586\n",
      "Epoch  4, CIFAR-10 Batch 5:  LOSS:  0.0640324\n",
      "ACCURACY:  0.6748\n",
      "Epoch  5, CIFAR-10 Batch 1:  LOSS:  0.0659378\n",
      "ACCURACY:  0.6724\n",
      "Epoch  5, CIFAR-10 Batch 2:  LOSS:  0.0260203\n",
      "ACCURACY:  0.6576\n",
      "Epoch  5, CIFAR-10 Batch 3:  LOSS:  0.0439594\n",
      "ACCURACY:  0.6876\n",
      "Epoch  5, CIFAR-10 Batch 4:  LOSS:  0.0469549\n",
      "ACCURACY:  0.6662\n",
      "Epoch  5, CIFAR-10 Batch 5:  LOSS:  0.0312813\n",
      "ACCURACY:  0.6796\n",
      "Epoch  6, CIFAR-10 Batch 1:  LOSS:  0.0309732\n",
      "ACCURACY:  0.685\n",
      "Epoch  6, CIFAR-10 Batch 2:  LOSS:  0.0262303\n",
      "ACCURACY:  0.6324\n",
      "Epoch  6, CIFAR-10 Batch 3:  LOSS:  0.0236432\n",
      "ACCURACY:  0.6702\n",
      "Epoch  6, CIFAR-10 Batch 4:  LOSS:  0.0329659\n",
      "ACCURACY:  0.6694\n",
      "Epoch  6, CIFAR-10 Batch 5:  LOSS:  0.0082121\n",
      "ACCURACY:  0.6932\n",
      "Epoch  7, CIFAR-10 Batch 1:  LOSS:  0.0132384\n",
      "ACCURACY:  0.6908\n",
      "Epoch  7, CIFAR-10 Batch 2:  LOSS:  0.00901982\n",
      "ACCURACY:  0.664\n",
      "Epoch  7, CIFAR-10 Batch 3:  LOSS:  0.010519\n",
      "ACCURACY:  0.671\n",
      "Epoch  7, CIFAR-10 Batch 4:  LOSS:  0.00836312\n",
      "ACCURACY:  0.6738\n",
      "Epoch  7, CIFAR-10 Batch 5:  LOSS:  0.00581104\n",
      "ACCURACY:  0.6726\n",
      "Epoch  8, CIFAR-10 Batch 1:  LOSS:  0.00994004\n",
      "ACCURACY:  0.6722\n",
      "Epoch  8, CIFAR-10 Batch 2:  LOSS:  0.00250562\n",
      "ACCURACY:  0.6712\n",
      "Epoch  8, CIFAR-10 Batch 3:  LOSS:  0.0088149\n",
      "ACCURACY:  0.6836\n",
      "Epoch  8, CIFAR-10 Batch 4:  LOSS:  0.00751126\n",
      "ACCURACY:  0.6852\n",
      "Epoch  8, CIFAR-10 Batch 5:  LOSS:  0.00418448\n",
      "ACCURACY:  0.6862\n",
      "Epoch  9, CIFAR-10 Batch 1:  LOSS:  0.00254192\n",
      "ACCURACY:  0.6762\n",
      "Epoch  9, CIFAR-10 Batch 2:  LOSS:  0.00414258\n",
      "ACCURACY:  0.67\n",
      "Epoch  9, CIFAR-10 Batch 3:  LOSS:  0.0033249\n",
      "ACCURACY:  0.6874\n",
      "Epoch  9, CIFAR-10 Batch 4:  LOSS:  0.00218367\n",
      "ACCURACY:  0.6796\n",
      "Epoch  9, CIFAR-10 Batch 5:  LOSS:  0.000622444\n",
      "ACCURACY:  0.6942\n",
      "Epoch 10, CIFAR-10 Batch 1:  LOSS:  0.00635725\n",
      "ACCURACY:  0.67\n",
      "Epoch 10, CIFAR-10 Batch 2:  LOSS:  0.00153241\n",
      "ACCURACY:  0.6916\n",
      "Epoch 10, CIFAR-10 Batch 3:  LOSS:  0.00147541\n",
      "ACCURACY:  0.7018\n",
      "Epoch 10, CIFAR-10 Batch 4:  LOSS:  0.00588989\n",
      "ACCURACY:  0.6808\n",
      "Epoch 10, CIFAR-10 Batch 5:  LOSS:  0.00203184\n",
      "ACCURACY:  0.6874\n",
      "Epoch 11, CIFAR-10 Batch 1:  LOSS:  0.0014115\n",
      "ACCURACY:  0.6796\n",
      "Epoch 11, CIFAR-10 Batch 2:  LOSS:  0.0028233\n",
      "ACCURACY:  0.6802\n",
      "Epoch 11, CIFAR-10 Batch 3:  LOSS:  0.000778473\n",
      "ACCURACY:  0.6884\n",
      "Epoch 11, CIFAR-10 Batch 4:  LOSS:  0.000638978\n",
      "ACCURACY:  0.6946\n",
      "Epoch 11, CIFAR-10 Batch 5:  LOSS:  0.000404468\n",
      "ACCURACY:  0.6952\n",
      "Epoch 12, CIFAR-10 Batch 1:  LOSS:  0.000264676\n",
      "ACCURACY:  0.6848\n",
      "Epoch 12, CIFAR-10 Batch 2:  LOSS:  0.000570342\n",
      "ACCURACY:  0.6856\n",
      "Epoch 12, CIFAR-10 Batch 3:  LOSS:  0.000601778\n",
      "ACCURACY:  0.6922\n",
      "Epoch 12, CIFAR-10 Batch 4:  LOSS:  0.00181087\n",
      "ACCURACY:  0.6862\n",
      "Epoch 12, CIFAR-10 Batch 5:  LOSS:  0.000226179\n",
      "ACCURACY:  0.6904\n",
      "Epoch 13, CIFAR-10 Batch 1:  LOSS:  0.000504338\n",
      "ACCURACY:  0.6758\n",
      "Epoch 13, CIFAR-10 Batch 2:  LOSS:  0.00817424\n",
      "ACCURACY:  0.6832\n",
      "Epoch 13, CIFAR-10 Batch 3:  LOSS:  0.00151656\n",
      "ACCURACY:  0.6886\n",
      "Epoch 13, CIFAR-10 Batch 4:  LOSS:  0.000533841\n",
      "ACCURACY:  0.693\n",
      "Epoch 13, CIFAR-10 Batch 5:  LOSS:  0.000122727\n",
      "ACCURACY:  0.6912\n",
      "Epoch 14, CIFAR-10 Batch 1:  LOSS:  0.00079276\n",
      "ACCURACY:  0.691\n",
      "Epoch 14, CIFAR-10 Batch 2:  LOSS:  0.000422778\n",
      "ACCURACY:  0.6936\n",
      "Epoch 14, CIFAR-10 Batch 3:  LOSS:  0.00078821\n",
      "ACCURACY:  0.6926\n",
      "Epoch 14, CIFAR-10 Batch 4:  LOSS:  0.000416885\n",
      "ACCURACY:  0.6878\n",
      "Epoch 14, CIFAR-10 Batch 5:  LOSS:  0.000727299\n",
      "ACCURACY:  0.6862\n",
      "Epoch 15, CIFAR-10 Batch 1:  LOSS:  0.000121424\n",
      "ACCURACY:  0.695\n",
      "Epoch 15, CIFAR-10 Batch 2:  LOSS:  0.000423636\n",
      "ACCURACY:  0.696\n",
      "Epoch 15, CIFAR-10 Batch 3:  LOSS:  0.000573901\n",
      "ACCURACY:  0.7012\n",
      "Epoch 15, CIFAR-10 Batch 4:  LOSS:  0.000157366\n",
      "ACCURACY:  0.6892\n",
      "Epoch 15, CIFAR-10 Batch 5:  LOSS:  0.000564514\n",
      "ACCURACY:  0.6896\n",
      "Epoch 16, CIFAR-10 Batch 1:  LOSS:  0.00032417\n",
      "ACCURACY:  0.6892\n",
      "Epoch 16, CIFAR-10 Batch 2:  LOSS:  7.79105e-05\n",
      "ACCURACY:  0.6928\n",
      "Epoch 16, CIFAR-10 Batch 3:  LOSS:  0.000152503\n",
      "ACCURACY:  0.6976\n",
      "Epoch 16, CIFAR-10 Batch 4:  LOSS:  0.000129296\n",
      "ACCURACY:  0.697\n",
      "Epoch 16, CIFAR-10 Batch 5:  LOSS:  0.000161778\n",
      "ACCURACY:  0.6836\n",
      "Epoch 17, CIFAR-10 Batch 1:  LOSS:  0.000319253\n",
      "ACCURACY:  0.6928\n",
      "Epoch 17, CIFAR-10 Batch 2:  LOSS:  5.4203e-05\n",
      "ACCURACY:  0.6904\n",
      "Epoch 17, CIFAR-10 Batch 3:  LOSS:  0.000210813\n",
      "ACCURACY:  0.7034\n",
      "Epoch 17, CIFAR-10 Batch 4:  LOSS:  1.97936e-05\n",
      "ACCURACY:  0.6896\n",
      "Epoch 17, CIFAR-10 Batch 5:  LOSS:  3.95396e-05\n",
      "ACCURACY:  0.688\n",
      "Epoch 18, CIFAR-10 Batch 1:  LOSS:  0.0010832\n",
      "ACCURACY:  0.6858\n",
      "Epoch 18, CIFAR-10 Batch 2:  LOSS:  0.000499555\n",
      "ACCURACY:  0.6884\n",
      "Epoch 18, CIFAR-10 Batch 3:  LOSS:  0.000120905\n",
      "ACCURACY:  0.694\n",
      "Epoch 18, CIFAR-10 Batch 4:  LOSS:  0.00149675\n",
      "ACCURACY:  0.689\n",
      "Epoch 18, CIFAR-10 Batch 5:  LOSS:  0.000177601\n",
      "ACCURACY:  0.6974\n",
      "Epoch 19, CIFAR-10 Batch 1:  LOSS:  0.000506566\n",
      "ACCURACY:  0.6922\n",
      "Epoch 19, CIFAR-10 Batch 2:  LOSS:  9.61668e-05\n",
      "ACCURACY:  0.68\n",
      "Epoch 19, CIFAR-10 Batch 3:  LOSS:  0.00154875\n",
      "ACCURACY:  0.6856\n",
      "Epoch 19, CIFAR-10 Batch 4:  LOSS:  0.000130179\n",
      "ACCURACY:  0.683\n",
      "Epoch 19, CIFAR-10 Batch 5:  LOSS:  2.51266e-05\n",
      "ACCURACY:  0.7012\n",
      "Epoch 20, CIFAR-10 Batch 1:  LOSS:  0.00089491\n",
      "ACCURACY:  0.6866\n",
      "Epoch 20, CIFAR-10 Batch 2:  LOSS:  0.00050757\n",
      "ACCURACY:  0.6926\n",
      "Epoch 20, CIFAR-10 Batch 3:  LOSS:  0.00109285\n",
      "ACCURACY:  0.6918\n",
      "Epoch 20, CIFAR-10 Batch 4:  LOSS:  0.000190071\n",
      "ACCURACY:  0.686\n",
      "Epoch 20, CIFAR-10 Batch 5:  LOSS:  0.00178621\n",
      "ACCURACY:  0.7016\n",
      "Epoch 21, CIFAR-10 Batch 1:  LOSS:  0.000208146\n",
      "ACCURACY:  0.6932\n",
      "Epoch 21, CIFAR-10 Batch 2:  LOSS:  0.000131109\n",
      "ACCURACY:  0.6922\n",
      "Epoch 21, CIFAR-10 Batch 3:  LOSS:  0.00163948\n",
      "ACCURACY:  0.6926\n",
      "Epoch 21, CIFAR-10 Batch 4:  LOSS:  0.00507839\n",
      "ACCURACY:  0.6968\n",
      "Epoch 21, CIFAR-10 Batch 5:  LOSS:  6.66197e-05\n",
      "ACCURACY:  0.697\n",
      "Epoch 22, CIFAR-10 Batch 1:  LOSS:  0.000852646\n",
      "ACCURACY:  0.6956\n",
      "Epoch 22, CIFAR-10 Batch 2:  LOSS:  0.000754499\n",
      "ACCURACY:  0.6862\n",
      "Epoch 22, CIFAR-10 Batch 3:  LOSS:  0.00017436\n",
      "ACCURACY:  0.6836\n",
      "Epoch 22, CIFAR-10 Batch 4:  LOSS:  8.44852e-05\n",
      "ACCURACY:  0.687\n",
      "Epoch 22, CIFAR-10 Batch 5:  LOSS:  0.0012233\n",
      "ACCURACY:  0.6852\n",
      "Epoch 23, CIFAR-10 Batch 1:  LOSS:  0.00142174\n",
      "ACCURACY:  0.6894\n",
      "Epoch 23, CIFAR-10 Batch 2:  LOSS:  5.78061e-05\n",
      "ACCURACY:  0.6938\n",
      "Epoch 23, CIFAR-10 Batch 3:  LOSS:  0.00123318\n",
      "ACCURACY:  0.688\n",
      "Epoch 23, CIFAR-10 Batch 4:  LOSS:  2.00039e-05\n",
      "ACCURACY:  0.69\n",
      "Epoch 23, CIFAR-10 Batch 5:  LOSS:  0.00529122\n",
      "ACCURACY:  0.6838\n",
      "Epoch 24, CIFAR-10 Batch 1:  LOSS:  0.000835746\n",
      "ACCURACY:  0.6906\n",
      "Epoch 24, CIFAR-10 Batch 2:  LOSS:  0.000786278\n",
      "ACCURACY:  0.6934\n",
      "Epoch 24, CIFAR-10 Batch 3:  LOSS:  0.000242011\n",
      "ACCURACY:  0.6882\n",
      "Epoch 24, CIFAR-10 Batch 4:  LOSS:  0.000747777\n",
      "ACCURACY:  0.6862\n",
      "Epoch 24, CIFAR-10 Batch 5:  LOSS:  0.000285846\n",
      "ACCURACY:  0.688\n",
      "Epoch 25, CIFAR-10 Batch 1:  LOSS:  0.000578323\n",
      "ACCURACY:  0.6838\n",
      "Epoch 25, CIFAR-10 Batch 2:  LOSS:  0.000269909\n",
      "ACCURACY:  0.6834\n",
      "Epoch 25, CIFAR-10 Batch 3:  LOSS:  0.00255578\n",
      "ACCURACY:  0.6962\n",
      "Epoch 25, CIFAR-10 Batch 4:  LOSS:  3.15985e-05\n",
      "ACCURACY:  0.6788\n",
      "Epoch 25, CIFAR-10 Batch 5:  LOSS:  0.00310333\n",
      "ACCURACY:  0.6918\n",
      "Epoch 26, CIFAR-10 Batch 1:  LOSS:  0.000293762\n",
      "ACCURACY:  0.6922\n",
      "Epoch 26, CIFAR-10 Batch 2:  LOSS:  0.00260648\n",
      "ACCURACY:  0.6818\n"
     ]
    },
    {
     "name": "stdout",
     "output_type": "stream",
     "text": [
      "Epoch 26, CIFAR-10 Batch 3:  LOSS:  0.00030605\n",
      "ACCURACY:  0.6802\n",
      "Epoch 26, CIFAR-10 Batch 4:  LOSS:  1.35918e-05\n",
      "ACCURACY:  0.688\n",
      "Epoch 26, CIFAR-10 Batch 5:  LOSS:  0.000124462\n",
      "ACCURACY:  0.694\n",
      "Epoch 27, CIFAR-10 Batch 1:  LOSS:  0.000343297\n",
      "ACCURACY:  0.6826\n",
      "Epoch 27, CIFAR-10 Batch 2:  LOSS:  0.00121056\n",
      "ACCURACY:  0.6834\n",
      "Epoch 27, CIFAR-10 Batch 3:  LOSS:  0.00473878\n",
      "ACCURACY:  0.6858\n",
      "Epoch 27, CIFAR-10 Batch 4:  LOSS:  1.42145e-05\n",
      "ACCURACY:  0.6828\n",
      "Epoch 27, CIFAR-10 Batch 5:  LOSS:  0.000230484\n",
      "ACCURACY:  0.6862\n",
      "Epoch 28, CIFAR-10 Batch 1:  LOSS:  5.58236e-05\n",
      "ACCURACY:  0.6886\n",
      "Epoch 28, CIFAR-10 Batch 2:  LOSS:  0.0244624\n",
      "ACCURACY:  0.6836\n",
      "Epoch 28, CIFAR-10 Batch 3:  LOSS:  5.65817e-05\n",
      "ACCURACY:  0.6928\n",
      "Epoch 28, CIFAR-10 Batch 4:  LOSS:  0.000535567\n",
      "ACCURACY:  0.6876\n",
      "Epoch 28, CIFAR-10 Batch 5:  LOSS:  6.82906e-05\n",
      "ACCURACY:  0.6802\n",
      "Epoch 29, CIFAR-10 Batch 1:  LOSS:  0.000242294\n",
      "ACCURACY:  0.6744\n",
      "Epoch 29, CIFAR-10 Batch 2:  LOSS:  1.80287e-05\n",
      "ACCURACY:  0.6862\n",
      "Epoch 29, CIFAR-10 Batch 3:  LOSS:  2.79462e-05\n",
      "ACCURACY:  0.6828\n",
      "Epoch 29, CIFAR-10 Batch 4:  LOSS:  0.000818022\n",
      "ACCURACY:  0.6758\n",
      "Epoch 29, CIFAR-10 Batch 5:  LOSS:  0.0016099\n",
      "ACCURACY:  0.6646\n",
      "Epoch 30, CIFAR-10 Batch 1:  LOSS:  0.000219979\n",
      "ACCURACY:  0.6698\n",
      "Epoch 30, CIFAR-10 Batch 2:  LOSS:  0.000509849\n",
      "ACCURACY:  0.6728\n",
      "Epoch 30, CIFAR-10 Batch 3:  LOSS:  0.00043276\n",
      "ACCURACY:  0.684\n",
      "Epoch 30, CIFAR-10 Batch 4:  LOSS:  5.34076e-05\n",
      "ACCURACY:  0.6904\n",
      "Epoch 30, CIFAR-10 Batch 5:  LOSS:  5.38987e-05\n",
      "ACCURACY:  0.6872\n",
      "Epoch 31, CIFAR-10 Batch 1:  LOSS:  0.000100515\n",
      "ACCURACY:  0.6844\n",
      "Epoch 31, CIFAR-10 Batch 2:  LOSS:  1.34749e-05\n",
      "ACCURACY:  0.6946\n",
      "Epoch 31, CIFAR-10 Batch 3:  LOSS:  0.000110569\n",
      "ACCURACY:  0.6926\n",
      "Epoch 31, CIFAR-10 Batch 4:  LOSS:  2.0426e-05\n",
      "ACCURACY:  0.6884\n",
      "Epoch 31, CIFAR-10 Batch 5:  LOSS:  1.84778e-05\n",
      "ACCURACY:  0.6902\n",
      "Epoch 32, CIFAR-10 Batch 1:  LOSS:  1.72417e-05\n",
      "ACCURACY:  0.697\n",
      "Epoch 32, CIFAR-10 Batch 2:  LOSS:  4.4443e-05\n",
      "ACCURACY:  0.6854\n",
      "Epoch 32, CIFAR-10 Batch 3:  LOSS:  0.000322939\n",
      "ACCURACY:  0.688\n",
      "Epoch 32, CIFAR-10 Batch 4:  LOSS:  3.29961e-05\n",
      "ACCURACY:  0.69\n",
      "Epoch 32, CIFAR-10 Batch 5:  LOSS:  8.74348e-06\n",
      "ACCURACY:  0.6856\n"
     ]
    }
   ],
   "source": [
    "\"\"\"\n",
    "DON'T MODIFY ANYTHING IN THIS CELL\n",
    "\"\"\"\n",
    "save_model_path = './image_classification'\n",
    "\n",
    "print('Training...')\n",
    "with tf.Session() as sess:\n",
    "    # Initializing the variables\n",
    "    sess.run(tf.global_variables_initializer())\n",
    "    \n",
    "    # Training cycle\n",
    "    for epoch in range(epochs):\n",
    "        # Loop over all batches\n",
    "        n_batches = 5\n",
    "        for batch_i in range(1, n_batches + 1):\n",
    "            for batch_features, batch_labels in helper.load_preprocess_training_batch(batch_i, batch_size):\n",
    "                train_neural_network(sess, optimizer, keep_probability, batch_features, batch_labels)\n",
    "            print('Epoch {:>2}, CIFAR-10 Batch {}:  '.format(epoch + 1, batch_i), end='')\n",
    "            print_stats(sess, batch_features, batch_labels, cost, accuracy)\n",
    "            \n",
    "    # Save Model\n",
    "    saver = tf.train.Saver()\n",
    "    save_path = saver.save(sess, save_model_path)"
   ]
  },
  {
   "cell_type": "markdown",
   "metadata": {},
   "source": [
    "# Checkpoint\n",
    "The model has been saved to disk.\n",
    "## Test Model\n",
    "Test your model against the test dataset.  This will be your final accuracy. You should have an accuracy greater than 50%. If you don't, keep tweaking the model architecture and parameters."
   ]
  },
  {
   "cell_type": "code",
   "execution_count": 19,
   "metadata": {},
   "outputs": [
    {
     "name": "stdout",
     "output_type": "stream",
     "text": [
      "INFO:tensorflow:Restoring parameters from ./image_classification\n",
      "Testing Accuracy: 0.6822265625\n",
      "\n"
     ]
    },
    {
     "data": {
      "image/png": "[encoded data removed]",
      "text/plain": [
       "<matplotlib.figure.Figure at 0x133289320>"
      ]
     },
     "metadata": {
      "image/png": {
       "height": 319,
       "width": 355
      }
     },
     "output_type": "display_data"
    }
   ],
   "source": [
    "\"\"\"\n",
    "DON'T MODIFY ANYTHING IN THIS CELL\n",
    "\"\"\"\n",
    "%matplotlib inline\n",
    "%config InlineBackend.figure_format = 'retina'\n",
    "\n",
    "import tensorflow as tf\n",
    "import pickle\n",
    "import helper\n",
    "import random\n",
    "\n",
    "# Set batch size if not already set\n",
    "try:\n",
    "    if batch_size:\n",
    "        pass\n",
    "except NameError:\n",
    "    batch_size = 64\n",
    "\n",
    "save_model_path = './image_classification'\n",
    "n_samples = 4\n",
    "top_n_predictions = 3\n",
    "\n",
    "def test_model():\n",
    "    \"\"\"\n",
    "    Test the saved model against the test dataset\n",
    "    \"\"\"\n",
    "\n",
    "    test_features, test_labels = pickle.load(open('preprocess_training.p', mode='rb'))\n",
    "    loaded_graph = tf.Graph()\n",
    "\n",
    "    with tf.Session(graph=loaded_graph) as sess:\n",
    "        # Load model\n",
    "        loader = tf.train.import_meta_graph(save_model_path + '.meta')\n",
    "        loader.restore(sess, save_model_path)\n",
    "\n",
    "        # Get Tensors from loaded model\n",
    "        loaded_x = loaded_graph.get_tensor_by_name('x:0')\n",
    "        loaded_y = loaded_graph.get_tensor_by_name('y:0')\n",
    "        loaded_keep_prob = loaded_graph.get_tensor_by_name('keep_prob:0')\n",
    "        loaded_logits = loaded_graph.get_tensor_by_name('logits:0')\n",
    "        loaded_acc = loaded_graph.get_tensor_by_name('accuracy:0')\n",
    "        \n",
    "        # Get accuracy in batches for memory limitations\n",
    "        test_batch_acc_total = 0\n",
    "        test_batch_count = 0\n",
    "        \n",
    "        for train_feature_batch, train_label_batch in helper.batch_features_labels(test_features, test_labels, batch_size):\n",
    "            test_batch_acc_total += sess.run(\n",
    "                loaded_acc,\n",
    "                feed_dict={loaded_x: train_feature_batch, loaded_y: train_label_batch, loaded_keep_prob: 1.0})\n",
    "            test_batch_count += 1\n",
    "\n",
    "        print('Testing Accuracy: {}\\n'.format(test_batch_acc_total/test_batch_count))\n",
    "\n",
    "        # Print Random Samples\n",
    "        random_test_features, random_test_labels = tuple(zip(*random.sample(list(zip(test_features, test_labels)), n_samples)))\n",
    "        random_test_predictions = sess.run(\n",
    "            tf.nn.top_k(tf.nn.softmax(loaded_logits), top_n_predictions),\n",
    "            feed_dict={loaded_x: random_test_features, loaded_y: random_test_labels, loaded_keep_prob: 1.0})\n",
    "        helper.display_image_predictions(random_test_features, random_test_labels, random_test_predictions)\n",
    "\n",
    "\n",
    "test_model()"
   ]
  },
  {
   "cell_type": "markdown",
   "metadata": {},
   "source": [
    "## Why 50-80% Accuracy?\n",
    "You might be wondering why you can't get an accuracy any higher. First things first, 50% isn't bad for a simple CNN.  Pure guessing would get you 10% accuracy. That's because there are many more techniques that can be applied to your model and we recemmond that once you are done with this project, you explore!\n",
    "\n",
    "## Submitting This Project\n",
    "When submitting this project, make sure to run all the cells before saving the notebook.  Save the notebook file as \"image_classification.ipynb\" and save it as a HTML file under \"File\" -> \"Download as\".  Include the \"helper.py\" and \"problem_unittests.py\" files in your submission."
   ]
  }
 ],
 "metadata": {
  "kernelspec": {
   "display_name": "Python 3",
   "language": "python",
   "name": "python3"
  },
  "language_info": {
   "codemirror_mode": {
    "name": "ipython",
    "version": 3
   },
   "file_extension": ".py",
   "mimetype": "text/x-python",
   "name": "python",
   "nbconvert_exporter": "python",
   "pygments_lexer": "ipython3",
   "version": "3.5.3"
  }
 },
 "nbformat": 4,
 "nbformat_minor": 1
}
